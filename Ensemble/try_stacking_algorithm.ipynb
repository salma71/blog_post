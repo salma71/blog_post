{
  "nbformat": 4,
  "nbformat_minor": 0,
  "metadata": {
    "colab": {
      "name": "try_stacking algorithm.ipynb",
      "provenance": [],
      "include_colab_link": true
    },
    "kernelspec": {
      "name": "python3",
      "display_name": "Python 3"
    }
  },
  "cells": [
    {
      "cell_type": "markdown",
      "metadata": {
        "id": "view-in-github",
        "colab_type": "text"
      },
      "source": [
        "<a href=\"https://colab.research.google.com/github/salma71/blog_post/blob/master/try_stacking_algorithm.ipynb\" target=\"_parent\"><img src=\"https://colab.research.google.com/assets/colab-badge.svg\" alt=\"Open In Colab\"/></a>"
      ]
    },
    {
      "cell_type": "code",
      "metadata": {
        "colab": {
          "resources": {
            "http://localhost:8080/nbextensions/google.colab/files.js": {
              "data": "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",
              "ok": true,
              "headers": [
                [
                  "content-type",
                  "application/javascript"
                ]
              ],
              "status": 200,
              "status_text": ""
            }
          },
          "base_uri": "https://localhost:8080/",
          "height": 73
        },
        "id": "a04ZXupC-YVk",
        "outputId": "d4c72f26-d02d-4d92-bea9-5eb5e7da491e"
      },
      "source": [
        "!pip install -q kaggle\n",
        "from google.colab import files\n",
        "files.upload()\n",
        "!mkdir -p ~/.kaggle\n",
        "!cp kaggle.json ~/.kaggle/\n",
        "\n"
      ],
      "execution_count": 1,
      "outputs": [
        {
          "output_type": "display_data",
          "data": {
            "text/html": [
              "\n",
              "     <input type=\"file\" id=\"files-c7d5b726-3360-4e44-b353-2685ecb59bc4\" name=\"files[]\" multiple disabled\n",
              "        style=\"border:none\" />\n",
              "     <output id=\"result-c7d5b726-3360-4e44-b353-2685ecb59bc4\">\n",
              "      Upload widget is only available when the cell has been executed in the\n",
              "      current browser session. Please rerun this cell to enable.\n",
              "      </output>\n",
              "      <script src=\"/nbextensions/google.colab/files.js\"></script> "
            ],
            "text/plain": [
              "<IPython.core.display.HTML object>"
            ]
          },
          "metadata": {
            "tags": []
          }
        },
        {
          "output_type": "stream",
          "text": [
            "Saving kaggle.json to kaggle.json\n"
          ],
          "name": "stdout"
        }
      ]
    },
    {
      "cell_type": "code",
      "metadata": {
        "id": "qNMdJE8vAsSl"
      },
      "source": [
        "!chmod 600 ~/.kaggle/kaggle.json\n",
        "#unzip the folder\n",
        "!mkdir train"
      ],
      "execution_count": 2,
      "outputs": []
    },
    {
      "cell_type": "code",
      "metadata": {
        "colab": {
          "base_uri": "https://localhost:8080/"
        },
        "id": "X0NHz7cmBAe0",
        "outputId": "9ac4875f-f567-4331-cc21-edc62c127603"
      },
      "source": [
        "!kaggle datasets download -d uciml/pima-indians-diabetes-database"
      ],
      "execution_count": 3,
      "outputs": [
        {
          "output_type": "stream",
          "text": [
            "Downloading pima-indians-diabetes-database.zip to /content\n",
            "\r  0% 0.00/8.91k [00:00<?, ?B/s]\n",
            "\r100% 8.91k/8.91k [00:00<00:00, 13.9MB/s]\n"
          ],
          "name": "stdout"
        }
      ]
    },
    {
      "cell_type": "code",
      "metadata": {
        "colab": {
          "base_uri": "https://localhost:8080/"
        },
        "id": "hy7BsWPzAW7x",
        "outputId": "65b58278-86ee-4b2b-f77a-f82550e70892"
      },
      "source": [
        "!unzip pima-indians-diabetes-database.zip -d train\n"
      ],
      "execution_count": 4,
      "outputs": [
        {
          "output_type": "stream",
          "text": [
            "Archive:  pima-indians-diabetes-database.zip\n",
            "  inflating: train/diabetes.csv      \n"
          ],
          "name": "stdout"
        }
      ]
    },
    {
      "cell_type": "code",
      "metadata": {
        "id": "9oNDlLq-BRkf"
      },
      "source": [
        "# example of a super learner model for binary classification\n",
        "from numpy import hstack\n",
        "from numpy import vstack\n",
        "from numpy import asarray\n",
        "import pandas as pd\n",
        "import matplotlib.pyplot as plt\n",
        "from sklearn.metrics import confusion_matrix, accuracy_score, classification_report\n",
        "from sklearn.model_selection import KFold\n",
        "from sklearn.model_selection import train_test_split\n",
        "from sklearn.metrics import accuracy_score\n",
        "from sklearn.neighbors import KNeighborsClassifier\n",
        "from sklearn.linear_model import LogisticRegression\n",
        "from sklearn.tree import DecisionTreeClassifier\n",
        "from sklearn.svm import SVC\n",
        "from sklearn.naive_bayes import GaussianNB\n",
        "from sklearn.ensemble import AdaBoostClassifier\n",
        "from sklearn.ensemble import BaggingClassifier\n",
        "from sklearn.ensemble import RandomForestClassifier\n",
        "from sklearn.ensemble import ExtraTreesClassifier\n"
      ],
      "execution_count": 5,
      "outputs": []
    },
    {
      "cell_type": "code",
      "metadata": {
        "id": "h94jXik0-m90"
      },
      "source": [
        "# load the data\n",
        "data = pd.read_csv('/content/train/diabetes.csv')\n",
        "df = data.copy()\n",
        "feature_columns = list(df.columns)\n",
        "feature_columns.remove('Outcome')\n",
        "from sklearn.impute import SimpleImputer\n",
        "fill_values = SimpleImputer(missing_values=0, strategy=\"mean\", copy=False)\n",
        "df[feature_columns] = fill_values.fit_transform(df[feature_columns])\n",
        "# split the data into train and test\n",
        "X = data.iloc[:, :-1].values\n",
        "y = data.iloc[:, -1].values\n",
        "X_train, X_test, y_train, y_test = train_test_split(X, y, test_size=0.3, random_state=42, stratify = y)"
      ],
      "execution_count": 6,
      "outputs": []
    },
    {
      "cell_type": "code",
      "metadata": {
        "id": "7-LgdgXP_b_r"
      },
      "source": [
        "# create a list of base-models\n",
        "def get_models():\n",
        "\tmodels = list()\n",
        "\tmodels.append(LogisticRegression(solver='liblinear'))\n",
        "\tmodels.append(DecisionTreeClassifier())\n",
        "\tmodels.append(SVC(gamma='scale', probability=True))\n",
        "\tmodels.append(GaussianNB())\n",
        "\tmodels.append(KNeighborsClassifier())\n",
        "\tmodels.append(AdaBoostClassifier())\n",
        "\tmodels.append(BaggingClassifier(n_estimators=10))\n",
        "\tmodels.append(RandomForestClassifier(n_estimators=10))\n",
        "\tmodels.append(ExtraTreesClassifier(n_estimators=10))\n",
        "\treturn models\n",
        " \n",
        "# collect out of fold predictions form k-fold cross validation\n",
        "def get_out_of_fold_predictions(X, y, models):\n",
        "\tmeta_X, meta_y = list(), list()\n",
        "\t# define split of data\n",
        "\tkfold = KFold(n_splits=10, shuffle=True)\n",
        "\t# enumerate splits\n",
        "\tfor train_ix, test_ix in kfold.split(X):\n",
        "\t\tfold_yhats = list()\n",
        "\t\t# get data\n",
        "\t\ttrain_X, test_X = X[train_ix], X[test_ix]\n",
        "\t\ttrain_y, test_y = y[train_ix], y[test_ix]\n",
        "\t\tmeta_y.extend(test_y)\n",
        "\t\t# fit and make predictions with each sub-model\n",
        "\t\tfor model in models:\n",
        "\t\t\tmodel.fit(train_X, train_y)\n",
        "\t\t\tyhat = model.predict_proba(test_X)\n",
        "\t\t\t# store columns\n",
        "\t\t\tfold_yhats.append(yhat)\n",
        "\t\t# store fold yhats as columns\n",
        "\t\tmeta_X.append(hstack(fold_yhats))\n",
        "\treturn vstack(meta_X), asarray(meta_y)\n",
        " \n",
        "# fit all base models on the training dataset\n",
        "def fit_base_models(X, y, models):\n",
        "\tfor model in models:\n",
        "\t\tmodel.fit(X, y)\n",
        " \n",
        "# fit a meta model\n",
        "def fit_meta_model(X, y):\n",
        "\tmodel = LogisticRegression(solver='liblinear')\n",
        "\tmodel.fit(X, y)\n",
        "\treturn model\n",
        " \n",
        "# evaluate a list of models on a dataset\n",
        "scores = dict({'Algo': [], 'Train': [], 'Test': []})\n",
        "def evaluate_models_enhance(X_train, X_test, y_train, y_test, models):\n",
        "  for model in models:\n",
        "    y_test_pred = model.predict(X_test)\n",
        "    y_train_pred = model.predict(X_train)\n",
        "    scores['Algo'].append(model.__class__.__name__)\n",
        "    scores['Train'].append((accuracy_score(y_train, y_train_pred))*100)\n",
        "    scores['Test'].append((accuracy_score(y_test, y_test_pred))*100)\n",
        "\n",
        "    print(scores)\n",
        "\n",
        "\n",
        "# make predictions with stacked model\n",
        "def super_learner_predictions(X, models, meta_model):\n",
        "\tmeta_X = list()\n",
        "\tfor model in models:\n",
        "\t\tyhat = model.predict_proba(X)\n",
        "\t\tmeta_X.append(yhat)\n",
        "\tmeta_X = hstack(meta_X)\n",
        "\t# predict\n",
        "\treturn meta_model.predict(meta_X)"
      ],
      "execution_count": 59,
      "outputs": []
    },
    {
      "cell_type": "code",
      "metadata": {
        "colab": {
          "base_uri": "https://localhost:8080/"
        },
        "id": "FjWI0-yjBlTH",
        "outputId": "c7e55642-4591-4876-e0ae-680552885699"
      },
      "source": [
        "print('Train', X.shape, y.shape, 'Test', X_test.shape, y_test.shape)\n",
        "# get models\n",
        "models = get_models()\n",
        "# get out of fold predictions\n",
        "meta_X, meta_y = get_out_of_fold_predictions(X, y, models)\n",
        "print('Meta ', meta_X.shape, meta_y.shape)\n",
        "# fit base models\n",
        "fit_base_models(X_train, y_train, models)\n",
        "# fit the meta model\n",
        "meta_model = fit_meta_model(meta_X, meta_y)\n",
        "# evaluate base models\n",
        "evaluate_models_enhance(X_train, X_test, y_train, y_test, models)\n",
        "# evaluate stacked model\n",
        "# evaluate_models_stack(X_train, X_test, y_train, y_test, models, meta_model)\n",
        "yhat_train = super_learner_predictions(X_train, models, meta_model)\n",
        "yhat_test = super_learner_predictions(X_test, models, meta_model)\n",
        "print(\"RESULTS FOR SUPER LEARNER: \\n-------------------------------\")\n",
        "clf_report = pd.DataFrame(classification_report(y_train, yhat_train, output_dict=True))\n",
        "print(f\"ACCURACY SCORE ON TRAIN: {(accuracy_score(y_train, yhat_train))*100}\")\n",
        "print('\\n')\n",
        "clf_report = pd.DataFrame(classification_report(y_test, yhat_test, output_dict=True))\n",
        "print(f\"ACCURACY SCORE ON TEST: {(accuracy_score(y_test, yhat_test))*100}\")\n",
        "print(\"\\n=================================\")\n",
        " \n",
        "# print('Super Learner: %.3f' % (accuracy_score(y_test, yhat) * 100))"
      ],
      "execution_count": 60,
      "outputs": [
        {
          "output_type": "stream",
          "text": [
            "Train (768, 8) (768,) Test (231, 8) (231,)\n",
            "Meta  (768, 18) (768,)\n",
            "{'Algo': ['LogisticRegression'], 'Train': [78.58472998137802], 'Test': [73.59307359307358]}\n",
            "{'Algo': ['LogisticRegression', 'DecisionTreeClassifier'], 'Train': [78.58472998137802, 100.0], 'Test': [73.59307359307358, 75.32467532467533]}\n",
            "{'Algo': ['LogisticRegression', 'DecisionTreeClassifier', 'SVC'], 'Train': [78.58472998137802, 100.0, 78.02607076350093], 'Test': [73.59307359307358, 75.32467532467533, 74.45887445887446]}\n",
            "{'Algo': ['LogisticRegression', 'DecisionTreeClassifier', 'SVC', 'GaussianNB'], 'Train': [78.58472998137802, 100.0, 78.02607076350093, 77.6536312849162], 'Test': [73.59307359307358, 75.32467532467533, 74.45887445887446, 74.45887445887446]}\n",
            "{'Algo': ['LogisticRegression', 'DecisionTreeClassifier', 'SVC', 'GaussianNB', 'KNeighborsClassifier'], 'Train': [78.58472998137802, 100.0, 78.02607076350093, 77.6536312849162, 80.63314711359403], 'Test': [73.59307359307358, 75.32467532467533, 74.45887445887446, 74.45887445887446, 71.86147186147186]}\n",
            "{'Algo': ['LogisticRegression', 'DecisionTreeClassifier', 'SVC', 'GaussianNB', 'KNeighborsClassifier', 'AdaBoostClassifier'], 'Train': [78.58472998137802, 100.0, 78.02607076350093, 77.6536312849162, 80.63314711359403, 84.17132216014897], 'Test': [73.59307359307358, 75.32467532467533, 74.45887445887446, 74.45887445887446, 71.86147186147186, 74.02597402597402]}\n",
            "{'Algo': ['LogisticRegression', 'DecisionTreeClassifier', 'SVC', 'GaussianNB', 'KNeighborsClassifier', 'AdaBoostClassifier', 'BaggingClassifier'], 'Train': [78.58472998137802, 100.0, 78.02607076350093, 77.6536312849162, 80.63314711359403, 84.17132216014897, 98.88268156424581], 'Test': [73.59307359307358, 75.32467532467533, 74.45887445887446, 74.45887445887446, 71.86147186147186, 74.02597402597402, 74.89177489177489]}\n",
            "{'Algo': ['LogisticRegression', 'DecisionTreeClassifier', 'SVC', 'GaussianNB', 'KNeighborsClassifier', 'AdaBoostClassifier', 'BaggingClassifier', 'RandomForestClassifier'], 'Train': [78.58472998137802, 100.0, 78.02607076350093, 77.6536312849162, 80.63314711359403, 84.17132216014897, 98.88268156424581, 97.95158286778398], 'Test': [73.59307359307358, 75.32467532467533, 74.45887445887446, 74.45887445887446, 71.86147186147186, 74.02597402597402, 74.89177489177489, 74.45887445887446]}\n",
            "{'Algo': ['LogisticRegression', 'DecisionTreeClassifier', 'SVC', 'GaussianNB', 'KNeighborsClassifier', 'AdaBoostClassifier', 'BaggingClassifier', 'RandomForestClassifier', 'ExtraTreesClassifier'], 'Train': [78.58472998137802, 100.0, 78.02607076350093, 77.6536312849162, 80.63314711359403, 84.17132216014897, 98.88268156424581, 97.95158286778398, 100.0], 'Test': [73.59307359307358, 75.32467532467533, 74.45887445887446, 74.45887445887446, 71.86147186147186, 74.02597402597402, 74.89177489177489, 74.45887445887446, 76.19047619047619]}\n",
            "RESULTS FOR SUPER LEARNER: \n",
            "-------------------------------\n",
            "ACCURACY SCORE ON TRAIN: 97.76536312849163\n",
            "\n",
            "\n",
            "ACCURACY SCORE ON TEST: 77.05627705627705\n",
            "\n",
            "=================================\n"
          ],
          "name": "stdout"
        }
      ]
    },
    {
      "cell_type": "code",
      "metadata": {
        "colab": {
          "base_uri": "https://localhost:8080/"
        },
        "id": "j9dqKC4gaHID",
        "outputId": "3514e26d-1c98-4f19-fb5e-72521bb9a73d"
      },
      "source": [
        "\n",
        "scores['Algo'].append('Manual stacking')\n",
        "scores['Train'].append((accuracy_score(y_train, yhat_train))*100)\n",
        "scores['Test'].append((accuracy_score(y_test, yhat_test))*100)\n"
      ],
      "execution_count": 61,
      "outputs": [
        {
          "output_type": "execute_result",
          "data": {
            "text/plain": [
              "{'Algo': ['LogisticRegression',\n",
              "  'DecisionTreeClassifier',\n",
              "  'SVC',\n",
              "  'GaussianNB',\n",
              "  'KNeighborsClassifier',\n",
              "  'AdaBoostClassifier',\n",
              "  'BaggingClassifier',\n",
              "  'RandomForestClassifier',\n",
              "  'ExtraTreesClassifier',\n",
              "  'Manual stacking'],\n",
              " 'Test': [73.59307359307358,\n",
              "  75.32467532467533,\n",
              "  74.45887445887446,\n",
              "  74.45887445887446,\n",
              "  71.86147186147186,\n",
              "  74.02597402597402,\n",
              "  74.89177489177489,\n",
              "  74.45887445887446,\n",
              "  76.19047619047619,\n",
              "  77.05627705627705],\n",
              " 'Train': [78.58472998137802,\n",
              "  100.0,\n",
              "  78.02607076350093,\n",
              "  77.6536312849162,\n",
              "  80.63314711359403,\n",
              "  84.17132216014897,\n",
              "  98.88268156424581,\n",
              "  97.95158286778398,\n",
              "  100.0,\n",
              "  97.76536312849163]}"
            ]
          },
          "metadata": {
            "tags": []
          },
          "execution_count": 61
        }
      ]
    },
    {
      "cell_type": "code",
      "metadata": {
        "colab": {
          "base_uri": "https://localhost:8080/",
          "height": 514
        },
        "id": "U2UwEVLO6aaj",
        "outputId": "65f52340-2073-4748-d98b-53b774dd7de3"
      },
      "source": [
        "import matplotlib.pyplot as plt\n",
        "\n",
        "scores_df = pd.DataFrame(scores)\n",
        "long_df = scores_df.reset_index()\n",
        "long_df\n",
        "scores_df.plot(kind = 'bar', figsize=(12, 8), colormap='Spectral')"
      ],
      "execution_count": 10,
      "outputs": [
        {
          "output_type": "execute_result",
          "data": {
            "text/plain": [
              "<matplotlib.axes._subplots.AxesSubplot at 0x7f9aac95dbe0>"
            ]
          },
          "metadata": {
            "tags": []
          },
          "execution_count": 10
        },
        {
          "output_type": "display_data",
          "data": {
            "image/png": "[encoded data removed]",
            "text/plain": [
              "<Figure size 864x576 with 1 Axes>"
            ]
          },
          "metadata": {
            "tags": [],
            "needs_background": "light"
          }
        }
      ]
    },
    {
      "cell_type": "code",
      "metadata": {
        "id": "JZxCvprJ5dU8"
      },
      "source": [
        "!pip install mlens -q"
      ],
      "execution_count": 74,
      "outputs": []
    },
    {
      "cell_type": "code",
      "metadata": {
        "id": "AXZkiMJ_cC6m",
        "colab": {
          "base_uri": "https://localhost:8080/"
        },
        "outputId": "a3991c5d-5b46-4482-fa81-9040f65665be"
      },
      "source": [
        "from mlens.ensemble import SuperLearner\n",
        "def get_super_learner(X):\n",
        "  ensemble = SuperLearner(scorer=accuracy_score, folds = 10)\n",
        "  model = get_models()\n",
        "  ensemble.add(model)\n",
        "  ensemble.add([LogisticRegression(), RandomForestClassifier()])\n",
        "  ensemble.add([LogisticRegression(), SVC()])\n",
        "  ensemble.add_meta(SVC())\n",
        "  return ensemble\n",
        "\n",
        "# create the super learner\n",
        "ensemble = get_super_learner(X_train)\n",
        "# fit the super learner\n",
        "ensemble.fit(X_train, y_train)\n",
        "# summarize base learners\n",
        "print(ensemble.data)\n",
        "# make predictions on hold out set\n",
        "yhat = ensemble.predict(X_test)\n",
        "print('Super Learner: %.3f' % (accuracy_score(y_test, yhat) * 100))"
      ],
      "execution_count": 79,
      "outputs": [
        {
          "output_type": "stream",
          "text": [
            "                                   score-m  score-s  ft-m  ft-s  pt-m  pt-s\n",
            "layer-1  adaboostclassifier           0.74     0.03  0.22  0.02  0.01  0.00\n",
            "layer-1  baggingclassifier            0.75     0.03  0.05  0.01  0.00  0.00\n",
            "layer-1  decisiontreeclassifier       0.70     0.06  0.00  0.00  0.00  0.00\n",
            "layer-1  extratreesclassifier         0.72     0.05  0.03  0.00  0.00  0.00\n",
            "layer-1  gaussiannb                   0.76     0.04  0.00  0.00  0.00  0.00\n",
            "layer-1  kneighborsclassifier         0.69     0.05  0.00  0.00  0.01  0.00\n",
            "layer-1  logisticregression           0.77     0.05  0.01  0.00  0.00  0.00\n",
            "layer-1  randomforestclassifier       0.72     0.05  0.04  0.00  0.00  0.00\n",
            "layer-1  svc                          0.75     0.06  0.05  0.01  0.00  0.00\n",
            "layer-2  logisticregression           0.77     0.04  0.01  0.00  0.00  0.00\n",
            "layer-2  randomforestclassifier       0.74     0.03  0.33  0.06  0.01  0.00\n",
            "layer-3  logisticregression           0.77     0.04  0.01  0.00  0.00  0.00\n",
            "layer-3  svc                          0.77     0.04  0.01  0.00  0.00  0.00\n",
            "\n",
            "Super Learner: 76.623\n"
          ],
          "name": "stdout"
        }
      ]
    },
    {
      "cell_type": "code",
      "metadata": {
        "id": "SFUMLC_6cjQx",
        "colab": {
          "base_uri": "https://localhost:8080/"
        },
        "outputId": "0a54a7f7-4be5-4b30-c4f5-5c994de5c21b"
      },
      "source": [
        "yhat_trainen = ensemble.predict(X_train)\n",
        "yhat_testen = ensemble.predict(X_test)\n",
        "print(f\"ACCURACY SCORE ON TRAIN: {(accuracy_score(y_train, yhat_trainen))*100}\")\n",
        "print('\\n')\n",
        "print(f\"ACCURACY SCORE ON TEST: {(accuracy_score(y_test, yhat_testen))*100}\")\n",
        "print(\"\\n=================================\")"
      ],
      "execution_count": 80,
      "outputs": [
        {
          "output_type": "stream",
          "text": [
            "ACCURACY SCORE ON TRAIN: 82.68156424581005\n",
            "\n",
            "\n",
            "ACCURACY SCORE ON TEST: 76.62337662337663\n",
            "\n",
            "=================================\n"
          ],
          "name": "stdout"
        }
      ]
    },
    {
      "cell_type": "code",
      "metadata": {
        "id": "qv3xvUbfct8Y",
        "colab": {
          "base_uri": "https://localhost:8080/"
        },
        "outputId": "6ad3618b-ac87-4857-f485-c6713d4c2c16"
      },
      "source": [
        "scores['Algo'].append('Mlens stacking')\n",
        "scores['Train'].append((accuracy_score(y_train, yhat_trainen))*100)\n",
        "scores['Test'].append((accuracy_score(y_test, yhat_testen))*100)\n",
        "\n",
        "scores"
      ],
      "execution_count": 81,
      "outputs": [
        {
          "output_type": "execute_result",
          "data": {
            "text/plain": [
              "{'Algo': ['LogisticRegression',\n",
              "  'DecisionTreeClassifier',\n",
              "  'SVC',\n",
              "  'GaussianNB',\n",
              "  'KNeighborsClassifier',\n",
              "  'AdaBoostClassifier',\n",
              "  'BaggingClassifier',\n",
              "  'RandomForestClassifier',\n",
              "  'ExtraTreesClassifier',\n",
              "  'Manual stacking',\n",
              "  'Mlens stacking'],\n",
              " 'Test': [73.59307359307358,\n",
              "  75.32467532467533,\n",
              "  74.45887445887446,\n",
              "  74.45887445887446,\n",
              "  71.86147186147186,\n",
              "  74.02597402597402,\n",
              "  74.89177489177489,\n",
              "  74.45887445887446,\n",
              "  76.19047619047619,\n",
              "  77.05627705627705,\n",
              "  76.62337662337663],\n",
              " 'Train': [78.58472998137802,\n",
              "  100.0,\n",
              "  78.02607076350093,\n",
              "  77.6536312849162,\n",
              "  80.63314711359403,\n",
              "  84.17132216014897,\n",
              "  98.88268156424581,\n",
              "  97.95158286778398,\n",
              "  100.0,\n",
              "  97.76536312849163,\n",
              "  82.68156424581005]}"
            ]
          },
          "metadata": {
            "tags": []
          },
          "execution_count": 81
        }
      ]
    },
    {
      "cell_type": "code",
      "metadata": {
        "id": "XiFsGLhbeMrH",
        "outputId": "29f5a264-7c39-4d33-dd8a-cd162c32b50c",
        "colab": {
          "base_uri": "https://localhost:8080/",
          "height": 377
        }
      },
      "source": [
        "test = pd.DataFrame(scores)\n",
        "test"
      ],
      "execution_count": 83,
      "outputs": [
        {
          "output_type": "execute_result",
          "data": {
            "text/html": [
              "<div>\n",
              "<style scoped>\n",
              "    .dataframe tbody tr th:only-of-type {\n",
              "        vertical-align: middle;\n",
              "    }\n",
              "\n",
              "    .dataframe tbody tr th {\n",
              "        vertical-align: top;\n",
              "    }\n",
              "\n",
              "    .dataframe thead th {\n",
              "        text-align: right;\n",
              "    }\n",
              "</style>\n",
              "<table border=\"1\" class=\"dataframe\">\n",
              "  <thead>\n",
              "    <tr style=\"text-align: right;\">\n",
              "      <th></th>\n",
              "      <th>Algo</th>\n",
              "      <th>Train</th>\n",
              "      <th>Test</th>\n",
              "    </tr>\n",
              "  </thead>\n",
              "  <tbody>\n",
              "    <tr>\n",
              "      <th>0</th>\n",
              "      <td>LogisticRegression</td>\n",
              "      <td>78.584730</td>\n",
              "      <td>73.593074</td>\n",
              "    </tr>\n",
              "    <tr>\n",
              "      <th>1</th>\n",
              "      <td>DecisionTreeClassifier</td>\n",
              "      <td>100.000000</td>\n",
              "      <td>75.324675</td>\n",
              "    </tr>\n",
              "    <tr>\n",
              "      <th>2</th>\n",
              "      <td>SVC</td>\n",
              "      <td>78.026071</td>\n",
              "      <td>74.458874</td>\n",
              "    </tr>\n",
              "    <tr>\n",
              "      <th>3</th>\n",
              "      <td>GaussianNB</td>\n",
              "      <td>77.653631</td>\n",
              "      <td>74.458874</td>\n",
              "    </tr>\n",
              "    <tr>\n",
              "      <th>4</th>\n",
              "      <td>KNeighborsClassifier</td>\n",
              "      <td>80.633147</td>\n",
              "      <td>71.861472</td>\n",
              "    </tr>\n",
              "    <tr>\n",
              "      <th>5</th>\n",
              "      <td>AdaBoostClassifier</td>\n",
              "      <td>84.171322</td>\n",
              "      <td>74.025974</td>\n",
              "    </tr>\n",
              "    <tr>\n",
              "      <th>6</th>\n",
              "      <td>BaggingClassifier</td>\n",
              "      <td>98.882682</td>\n",
              "      <td>74.891775</td>\n",
              "    </tr>\n",
              "    <tr>\n",
              "      <th>7</th>\n",
              "      <td>RandomForestClassifier</td>\n",
              "      <td>97.951583</td>\n",
              "      <td>74.458874</td>\n",
              "    </tr>\n",
              "    <tr>\n",
              "      <th>8</th>\n",
              "      <td>ExtraTreesClassifier</td>\n",
              "      <td>100.000000</td>\n",
              "      <td>76.190476</td>\n",
              "    </tr>\n",
              "    <tr>\n",
              "      <th>9</th>\n",
              "      <td>Manual stacking</td>\n",
              "      <td>97.765363</td>\n",
              "      <td>77.056277</td>\n",
              "    </tr>\n",
              "    <tr>\n",
              "      <th>10</th>\n",
              "      <td>Mlens stacking</td>\n",
              "      <td>82.681564</td>\n",
              "      <td>76.623377</td>\n",
              "    </tr>\n",
              "  </tbody>\n",
              "</table>\n",
              "</div>"
            ],
            "text/plain": [
              "                      Algo       Train       Test\n",
              "0       LogisticRegression   78.584730  73.593074\n",
              "1   DecisionTreeClassifier  100.000000  75.324675\n",
              "2                      SVC   78.026071  74.458874\n",
              "3               GaussianNB   77.653631  74.458874\n",
              "4     KNeighborsClassifier   80.633147  71.861472\n",
              "5       AdaBoostClassifier   84.171322  74.025974\n",
              "6        BaggingClassifier   98.882682  74.891775\n",
              "7   RandomForestClassifier   97.951583  74.458874\n",
              "8     ExtraTreesClassifier  100.000000  76.190476\n",
              "9          Manual stacking   97.765363  77.056277\n",
              "10          Mlens stacking   82.681564  76.623377"
            ]
          },
          "metadata": {
            "tags": []
          },
          "execution_count": 83
        }
      ]
    },
    {
      "cell_type": "code",
      "metadata": {
        "id": "PmoGOWpseAYD",
        "outputId": "c6332595-4d81-4a44-b98b-627540e11a67",
        "colab": {
          "base_uri": "https://localhost:8080/",
          "height": 542
        }
      },
      "source": [
        "import plotly.graph_objects as go\n",
        "fig = go.Figure()\n",
        "fig.add_trace(go.Bar(\n",
        "    x = test['Algo'],\n",
        "    y = test['Train'],\n",
        "    text = test['Train'],\n",
        "    textposition='auto',\n",
        "    name = 'Accuracy on Train set',\n",
        "    marker_color = 'indianred'\n",
        "))\n",
        "fig.add_trace(go.Bar(\n",
        "    x = test['Algo'],\n",
        "    y = test['Test'],\n",
        "    text = test['Test'],\n",
        "    textposition='auto',\n",
        "    name = 'Accuracy on Test set',\n",
        "    marker_color = 'lightsalmon'\n",
        "))\n",
        "fig.update_traces(texttemplate='%{text:.2f}')\n",
        "fig.update_layout(title_text='Comprehensive comparasion between ensembles on Train and Test set')\n",
        "fig.show()"
      ],
      "execution_count": 88,
      "outputs": [
        {
          "output_type": "display_data",
          "data": {
            "text/html": [
              "<html>\n",
              "<head><meta charset=\"utf-8\" /></head>\n",
              "<body>\n",
              "    <div>\n",
              "            <script src=\"https://cdnjs.cloudflare.com/ajax/libs/mathjax/2.7.5/MathJax.js?config=TeX-AMS-MML_SVG\"></script><script type=\"text/javascript\">if (window.MathJax) {MathJax.Hub.Config({SVG: {font: \"STIX-Web\"}});}</script>\n",
              "                <script type=\"text/javascript\">window.PlotlyConfig = {MathJaxConfig: 'local'};</script>\n",
              "        <script src=\"https://cdn.plot.ly/plotly-latest.min.js\"></script>    \n",
              "            <div id=\"ff62980b-b299-4f05-80c2-de11f052769a\" class=\"plotly-graph-div\" style=\"height:525px; width:100%;\"></div>\n",
              "            <script type=\"text/javascript\">\n",
              "                \n",
              "                    window.PLOTLYENV=window.PLOTLYENV || {};\n",
              "                    \n",
              "                if (document.getElementById(\"ff62980b-b299-4f05-80c2-de11f052769a\")) {\n",
              "                    Plotly.newPlot(\n",
              "                        'ff62980b-b299-4f05-80c2-de11f052769a',\n",
              "                        [{\"marker\": {\"color\": \"indianred\"}, \"name\": \"Accuracy on Train set\", \"text\": [78.58472998137802, 100.0, 78.02607076350093, 77.6536312849162, 80.63314711359403, 84.17132216014897, 98.88268156424581, 97.95158286778398, 100.0, 97.76536312849163, 82.68156424581005], \"textposition\": \"auto\", \"texttemplate\": \"%{text:.2f}\", \"type\": \"bar\", \"x\": [\"LogisticRegression\", \"DecisionTreeClassifier\", \"SVC\", \"GaussianNB\", \"KNeighborsClassifier\", \"AdaBoostClassifier\", \"BaggingClassifier\", \"RandomForestClassifier\", \"ExtraTreesClassifier\", \"Manual stacking\", \"Mlens stacking\"], \"y\": [78.58472998137802, 100.0, 78.02607076350093, 77.6536312849162, 80.63314711359403, 84.17132216014897, 98.88268156424581, 97.95158286778398, 100.0, 97.76536312849163, 82.68156424581005]}, {\"marker\": {\"color\": \"lightsalmon\"}, \"name\": \"Accuracy on Test set\", \"text\": [73.59307359307358, 75.32467532467533, 74.45887445887446, 74.45887445887446, 71.86147186147186, 74.02597402597402, 74.89177489177489, 74.45887445887446, 76.19047619047619, 77.05627705627705, 76.62337662337663], \"textposition\": \"auto\", \"texttemplate\": \"%{text:.2f}\", \"type\": \"bar\", \"x\": [\"LogisticRegression\", \"DecisionTreeClassifier\", \"SVC\", \"GaussianNB\", \"KNeighborsClassifier\", \"AdaBoostClassifier\", \"BaggingClassifier\", \"RandomForestClassifier\", \"ExtraTreesClassifier\", \"Manual stacking\", \"Mlens stacking\"], \"y\": [73.59307359307358, 75.32467532467533, 74.45887445887446, 74.45887445887446, 71.86147186147186, 74.02597402597402, 74.89177489177489, 74.45887445887446, 76.19047619047619, 77.05627705627705, 76.62337662337663]}],\n",
              "                        {\"template\": {\"data\": {\"bar\": [{\"error_x\": {\"color\": \"#2a3f5f\"}, \"error_y\": {\"color\": \"#2a3f5f\"}, \"marker\": {\"line\": {\"color\": \"#E5ECF6\", \"width\": 0.5}}, \"type\": \"bar\"}], \"barpolar\": [{\"marker\": {\"line\": {\"color\": \"#E5ECF6\", \"width\": 0.5}}, \"type\": \"barpolar\"}], \"carpet\": [{\"aaxis\": {\"endlinecolor\": \"#2a3f5f\", \"gridcolor\": \"white\", \"linecolor\": \"white\", \"minorgridcolor\": \"white\", \"startlinecolor\": \"#2a3f5f\"}, \"baxis\": {\"endlinecolor\": \"#2a3f5f\", \"gridcolor\": \"white\", \"linecolor\": \"white\", \"minorgridcolor\": \"white\", \"startlinecolor\": \"#2a3f5f\"}, \"type\": \"carpet\"}], \"choropleth\": [{\"colorbar\": {\"outlinewidth\": 0, \"ticks\": \"\"}, \"type\": \"choropleth\"}], \"contour\": [{\"colorbar\": {\"outlinewidth\": 0, \"ticks\": \"\"}, \"colorscale\": [[0.0, \"#0d0887\"], [0.1111111111111111, \"#46039f\"], [0.2222222222222222, \"#7201a8\"], [0.3333333333333333, \"#9c179e\"], [0.4444444444444444, \"#bd3786\"], [0.5555555555555556, \"#d8576b\"], [0.6666666666666666, \"#ed7953\"], [0.7777777777777778, \"#fb9f3a\"], [0.8888888888888888, \"#fdca26\"], [1.0, \"#f0f921\"]], \"type\": \"contour\"}], \"contourcarpet\": [{\"colorbar\": {\"outlinewidth\": 0, \"ticks\": \"\"}, \"type\": \"contourcarpet\"}], \"heatmap\": [{\"colorbar\": {\"outlinewidth\": 0, \"ticks\": \"\"}, \"colorscale\": [[0.0, \"#0d0887\"], [0.1111111111111111, \"#46039f\"], [0.2222222222222222, \"#7201a8\"], [0.3333333333333333, \"#9c179e\"], [0.4444444444444444, \"#bd3786\"], [0.5555555555555556, \"#d8576b\"], [0.6666666666666666, \"#ed7953\"], [0.7777777777777778, \"#fb9f3a\"], [0.8888888888888888, \"#fdca26\"], [1.0, \"#f0f921\"]], \"type\": \"heatmap\"}], \"heatmapgl\": [{\"colorbar\": {\"outlinewidth\": 0, \"ticks\": \"\"}, \"colorscale\": [[0.0, \"#0d0887\"], [0.1111111111111111, \"#46039f\"], [0.2222222222222222, \"#7201a8\"], [0.3333333333333333, \"#9c179e\"], [0.4444444444444444, \"#bd3786\"], [0.5555555555555556, \"#d8576b\"], [0.6666666666666666, \"#ed7953\"], [0.7777777777777778, \"#fb9f3a\"], [0.8888888888888888, \"#fdca26\"], [1.0, \"#f0f921\"]], \"type\": \"heatmapgl\"}], \"histogram\": [{\"marker\": {\"colorbar\": {\"outlinewidth\": 0, \"ticks\": \"\"}}, \"type\": \"histogram\"}], \"histogram2d\": [{\"colorbar\": {\"outlinewidth\": 0, \"ticks\": \"\"}, \"colorscale\": [[0.0, \"#0d0887\"], [0.1111111111111111, \"#46039f\"], [0.2222222222222222, \"#7201a8\"], [0.3333333333333333, \"#9c179e\"], [0.4444444444444444, \"#bd3786\"], [0.5555555555555556, \"#d8576b\"], [0.6666666666666666, \"#ed7953\"], [0.7777777777777778, \"#fb9f3a\"], [0.8888888888888888, \"#fdca26\"], [1.0, \"#f0f921\"]], \"type\": \"histogram2d\"}], \"histogram2dcontour\": [{\"colorbar\": {\"outlinewidth\": 0, \"ticks\": \"\"}, \"colorscale\": [[0.0, \"#0d0887\"], [0.1111111111111111, \"#46039f\"], [0.2222222222222222, \"#7201a8\"], [0.3333333333333333, \"#9c179e\"], [0.4444444444444444, \"#bd3786\"], [0.5555555555555556, \"#d8576b\"], [0.6666666666666666, \"#ed7953\"], [0.7777777777777778, \"#fb9f3a\"], [0.8888888888888888, \"#fdca26\"], [1.0, \"#f0f921\"]], \"type\": \"histogram2dcontour\"}], \"mesh3d\": [{\"colorbar\": {\"outlinewidth\": 0, \"ticks\": \"\"}, \"type\": \"mesh3d\"}], \"parcoords\": [{\"line\": {\"colorbar\": {\"outlinewidth\": 0, \"ticks\": \"\"}}, \"type\": \"parcoords\"}], \"pie\": [{\"automargin\": true, \"type\": \"pie\"}], \"scatter\": [{\"marker\": {\"colorbar\": {\"outlinewidth\": 0, \"ticks\": \"\"}}, \"type\": \"scatter\"}], \"scatter3d\": [{\"line\": {\"colorbar\": {\"outlinewidth\": 0, \"ticks\": \"\"}}, \"marker\": {\"colorbar\": {\"outlinewidth\": 0, \"ticks\": \"\"}}, \"type\": \"scatter3d\"}], \"scattercarpet\": [{\"marker\": {\"colorbar\": {\"outlinewidth\": 0, \"ticks\": \"\"}}, \"type\": \"scattercarpet\"}], \"scattergeo\": [{\"marker\": {\"colorbar\": {\"outlinewidth\": 0, \"ticks\": \"\"}}, \"type\": \"scattergeo\"}], \"scattergl\": [{\"marker\": {\"colorbar\": {\"outlinewidth\": 0, \"ticks\": \"\"}}, \"type\": \"scattergl\"}], \"scattermapbox\": [{\"marker\": {\"colorbar\": {\"outlinewidth\": 0, \"ticks\": \"\"}}, \"type\": \"scattermapbox\"}], \"scatterpolar\": [{\"marker\": {\"colorbar\": {\"outlinewidth\": 0, \"ticks\": \"\"}}, \"type\": \"scatterpolar\"}], \"scatterpolargl\": [{\"marker\": {\"colorbar\": {\"outlinewidth\": 0, \"ticks\": \"\"}}, \"type\": \"scatterpolargl\"}], \"scatterternary\": [{\"marker\": {\"colorbar\": {\"outlinewidth\": 0, \"ticks\": \"\"}}, \"type\": \"scatterternary\"}], \"surface\": [{\"colorbar\": {\"outlinewidth\": 0, \"ticks\": \"\"}, \"colorscale\": [[0.0, \"#0d0887\"], [0.1111111111111111, \"#46039f\"], [0.2222222222222222, \"#7201a8\"], [0.3333333333333333, \"#9c179e\"], [0.4444444444444444, \"#bd3786\"], [0.5555555555555556, \"#d8576b\"], [0.6666666666666666, \"#ed7953\"], [0.7777777777777778, \"#fb9f3a\"], [0.8888888888888888, \"#fdca26\"], [1.0, \"#f0f921\"]], \"type\": \"surface\"}], \"table\": [{\"cells\": {\"fill\": {\"color\": \"#EBF0F8\"}, \"line\": {\"color\": \"white\"}}, \"header\": {\"fill\": {\"color\": \"#C8D4E3\"}, \"line\": {\"color\": \"white\"}}, \"type\": \"table\"}]}, \"layout\": {\"annotationdefaults\": {\"arrowcolor\": \"#2a3f5f\", \"arrowhead\": 0, \"arrowwidth\": 1}, \"coloraxis\": {\"colorbar\": {\"outlinewidth\": 0, \"ticks\": \"\"}}, \"colorscale\": {\"diverging\": [[0, \"#8e0152\"], [0.1, \"#c51b7d\"], [0.2, \"#de77ae\"], [0.3, \"#f1b6da\"], [0.4, \"#fde0ef\"], [0.5, \"#f7f7f7\"], [0.6, \"#e6f5d0\"], [0.7, \"#b8e186\"], [0.8, \"#7fbc41\"], [0.9, \"#4d9221\"], [1, \"#276419\"]], \"sequential\": [[0.0, \"#0d0887\"], [0.1111111111111111, \"#46039f\"], [0.2222222222222222, \"#7201a8\"], [0.3333333333333333, \"#9c179e\"], [0.4444444444444444, \"#bd3786\"], [0.5555555555555556, \"#d8576b\"], [0.6666666666666666, \"#ed7953\"], [0.7777777777777778, \"#fb9f3a\"], [0.8888888888888888, \"#fdca26\"], [1.0, \"#f0f921\"]], \"sequentialminus\": [[0.0, \"#0d0887\"], [0.1111111111111111, \"#46039f\"], [0.2222222222222222, \"#7201a8\"], [0.3333333333333333, \"#9c179e\"], [0.4444444444444444, \"#bd3786\"], [0.5555555555555556, \"#d8576b\"], [0.6666666666666666, \"#ed7953\"], [0.7777777777777778, \"#fb9f3a\"], [0.8888888888888888, \"#fdca26\"], [1.0, \"#f0f921\"]]}, \"colorway\": [\"#636efa\", \"#EF553B\", \"#00cc96\", \"#ab63fa\", \"#FFA15A\", \"#19d3f3\", \"#FF6692\", \"#B6E880\", \"#FF97FF\", \"#FECB52\"], \"font\": {\"color\": \"#2a3f5f\"}, \"geo\": {\"bgcolor\": \"white\", \"lakecolor\": \"white\", \"landcolor\": \"#E5ECF6\", \"showlakes\": true, \"showland\": true, \"subunitcolor\": \"white\"}, \"hoverlabel\": {\"align\": \"left\"}, \"hovermode\": \"closest\", \"mapbox\": {\"style\": \"light\"}, \"paper_bgcolor\": \"white\", \"plot_bgcolor\": \"#E5ECF6\", \"polar\": {\"angularaxis\": {\"gridcolor\": \"white\", \"linecolor\": \"white\", \"ticks\": \"\"}, \"bgcolor\": \"#E5ECF6\", \"radialaxis\": {\"gridcolor\": \"white\", \"linecolor\": \"white\", \"ticks\": \"\"}}, \"scene\": {\"xaxis\": {\"backgroundcolor\": \"#E5ECF6\", \"gridcolor\": \"white\", \"gridwidth\": 2, \"linecolor\": \"white\", \"showbackground\": true, \"ticks\": \"\", \"zerolinecolor\": \"white\"}, \"yaxis\": {\"backgroundcolor\": \"#E5ECF6\", \"gridcolor\": \"white\", \"gridwidth\": 2, \"linecolor\": \"white\", \"showbackground\": true, \"ticks\": \"\", \"zerolinecolor\": \"white\"}, \"zaxis\": {\"backgroundcolor\": \"#E5ECF6\", \"gridcolor\": \"white\", \"gridwidth\": 2, \"linecolor\": \"white\", \"showbackground\": true, \"ticks\": \"\", \"zerolinecolor\": \"white\"}}, \"shapedefaults\": {\"line\": {\"color\": \"#2a3f5f\"}}, \"ternary\": {\"aaxis\": {\"gridcolor\": \"white\", \"linecolor\": \"white\", \"ticks\": \"\"}, \"baxis\": {\"gridcolor\": \"white\", \"linecolor\": \"white\", \"ticks\": \"\"}, \"bgcolor\": \"#E5ECF6\", \"caxis\": {\"gridcolor\": \"white\", \"linecolor\": \"white\", \"ticks\": \"\"}}, \"title\": {\"x\": 0.05}, \"xaxis\": {\"automargin\": true, \"gridcolor\": \"white\", \"linecolor\": \"white\", \"ticks\": \"\", \"title\": {\"standoff\": 15}, \"zerolinecolor\": \"white\", \"zerolinewidth\": 2}, \"yaxis\": {\"automargin\": true, \"gridcolor\": \"white\", \"linecolor\": \"white\", \"ticks\": \"\", \"title\": {\"standoff\": 15}, \"zerolinecolor\": \"white\", \"zerolinewidth\": 2}}}, \"title\": {\"text\": \"Comprehensive comparasion between ensembles on Train and Test set\"}},\n",
              "                        {\"responsive\": true}\n",
              "                    ).then(function(){\n",
              "                            \n",
              "var gd = document.getElementById('ff62980b-b299-4f05-80c2-de11f052769a');\n",
              "var x = new MutationObserver(function (mutations, observer) {{\n",
              "        var display = window.getComputedStyle(gd).display;\n",
              "        if (!display || display === 'none') {{\n",
              "            console.log([gd, 'removed!']);\n",
              "            Plotly.purge(gd);\n",
              "            observer.disconnect();\n",
              "        }}\n",
              "}});\n",
              "\n",
              "// Listen for the removal of the full notebook cells\n",
              "var notebookContainer = gd.closest('#notebook-container');\n",
              "if (notebookContainer) {{\n",
              "    x.observe(notebookContainer, {childList: true});\n",
              "}}\n",
              "\n",
              "// Listen for the clearing of the current output cell\n",
              "var outputEl = gd.closest('.output');\n",
              "if (outputEl) {{\n",
              "    x.observe(outputEl, {childList: true});\n",
              "}}\n",
              "\n",
              "                        })\n",
              "                };\n",
              "                \n",
              "            </script>\n",
              "        </div>\n",
              "</body>\n",
              "</html>"
            ]
          },
          "metadata": {
            "tags": []
          }
        }
      ]
    },
    {
      "cell_type": "code",
      "metadata": {
        "colab": {
          "base_uri": "https://localhost:8080/",
          "height": 514
        },
        "id": "D-_NpQJ57bOG",
        "outputId": "9ad7ca24-ba0f-4f66-f465-ecbba45557a7"
      },
      "source": [
        "scores_df = pd.DataFrame(scores)\n",
        "long_df = scores_df.reset_index()\n",
        "long_df\n",
        "scores_df.plot(kind = 'bar', figsize=(12, 8), colormap='Spectral')"
      ],
      "execution_count": 15,
      "outputs": [
        {
          "output_type": "execute_result",
          "data": {
            "text/plain": [
              "<matplotlib.axes._subplots.AxesSubplot at 0x7f9aac8026d8>"
            ]
          },
          "metadata": {
            "tags": []
          },
          "execution_count": 15
        },
        {
          "output_type": "display_data",
          "data": {
            "image/png": "[encoded data removed]",
            "text/plain": [
              "<Figure size 864x576 with 1 Axes>"
            ]
          },
          "metadata": {
            "tags": [],
            "needs_background": "light"
          }
        }
      ]
    },
    {
      "cell_type": "markdown",
      "metadata": {
        "id": "IhXdEZHicA_S"
      },
      "source": [
        "\n",
        "\n",
        "---\n",
        "\n",
        "\n",
        "\n",
        "---\n",
        "\n"
      ]
    },
    {
      "cell_type": "code",
      "metadata": {
        "id": "SJKWBIrRb_8v"
      },
      "source": [
        ""
      ],
      "execution_count": null,
      "outputs": []
    },
    {
      "cell_type": "code",
      "metadata": {
        "id": "kITu6RJc338w"
      },
      "source": [
        "!pip install gradio -q"
      ],
      "execution_count": null,
      "outputs": []
    },
    {
      "cell_type": "code",
      "metadata": {
        "id": "Q_YM-7xP3790"
      },
      "source": [
        "import gradio as gr"
      ],
      "execution_count": null,
      "outputs": []
    },
    {
      "cell_type": "code",
      "metadata": {
        "id": "QAygZysfDUMu"
      },
      "source": [
        "# scores = {}\n",
        "\n",
        "\n",
        "# def convert_df(v):\n",
        "#   scr = pd.DataFrame(v)\n",
        "#   return scr\n",
        "                \n",
        "# # make predictions with stacked model\n",
        "# def ploting(sc):\n",
        "#   df = convert_df(sc)\n",
        "#   df.plot(kind='bar')\n",
        "\n",
        "# def evaluate(df, models):\n",
        "#   models = get_models()\n",
        "#   X = df.iloc[:, :-1].values\n",
        "#   y = df.iloc[:, -1].values\n",
        "#   X_train, X_test, y_train, y_test = train_test_split(X, y, test_size=0.3, random_state=42, stratify = y)\n",
        "#   # get out of fold predictions\n",
        "#   meta_X, meta_y = get_out_of_fold_predictions(X, y, models)\n",
        "#   # fit base models\n",
        "#   fit_base_models(X_train, y_train, models)\n",
        "#   # fit the meta model\n",
        "#   meta_model = fit_meta_model(meta_X, meta_y)\n",
        "#   # evaluate base models\n",
        "#   evaluate_models_enhance(X_train, X_test, y_train, y_test, models)\n",
        "#   # evaluate stacked model\n",
        "#   for model in models:\n",
        "#     y_test_pred = model.predict(X_test)\n",
        "#     y_train_pred = model.predict(X_train)\n",
        "#     scores[model.__class__.__name__] = {\n",
        "#         'Train': (accuracy_score(y_train, y_train_pred))*100,\n",
        "#         'Test': (accuracy_score(y_test, y_test_pred))*100,\n",
        "#     }\n",
        "#   print(scores)\n",
        "\n",
        "#   tt = evaluate(df= df, models= models)\n",
        "#   tt"
      ],
      "execution_count": null,
      "outputs": []
    },
    {
      "cell_type": "code",
      "metadata": {
        "id": "w7sP_WPm8q-r"
      },
      "source": [
        "# algos_list = [m.__class__.__name__ for m in models]\n",
        "# algos_list"
      ],
      "execution_count": null,
      "outputs": []
    },
    {
      "cell_type": "code",
      "metadata": {
        "id": "OdxYgZSI98tb"
      },
      "source": [
        "# exa = [\n",
        "#        ['scores']\n",
        "# ]\n",
        "# iface = gr.Interface(evaluate,\n",
        "#                      [\n",
        "#                       gr.inputs.Dataframe(type='pandas'),\n",
        "#                       gr.inputs.Dropdown(algos_list, label='algo'),\n",
        "#                       gr.inputs.Dropdown(algos_list, label='vs. algo'),\n",
        "#                       gr.inputs.Radio(['train', 'test', 'both'], label='Performance'),\n",
        "#                      ],\n",
        "#                      gr.outputs.Image(plot=True, label='compare'), examples = exa).launch()\n",
        "# # model_name = gr.inputs.CheckboxGroup(choices = lis, label=\"Algo name\", type='value')\n",
        "# # gr.Interface(super_learner_predictions, [X_train, X_test, y_train, y_test, models], \"label\").launch()"
      ],
      "execution_count": null,
      "outputs": []
    },
    {
      "cell_type": "markdown",
      "metadata": {
        "id": "sK0fjSggWwEm"
      },
      "source": [
        "We will use our list of classifier models and a logistic regression model as the meta-model.\n",
        "\n",
        "we can configure the SuperLearner with 10-fold cross-validation, our evaluation function, and the use of the entire training dataset when preparing out-of-fold predictions to use as input for the meta-model.\n",
        "\n",
        "Then fit the data\n",
        "\n",
        "Finally, we can get a nice report of the performance of each of the base-models on the training dataset using k-fold cross-validation by accessing the “data” attribute on the model."
      ]
    },
    {
      "cell_type": "code",
      "metadata": {
        "id": "_H5F2XQ1WvWs"
      },
      "source": [
        ""
      ],
      "execution_count": null,
      "outputs": []
    },
    {
      "cell_type": "code",
      "metadata": {
        "id": "ToxdmmtaTOE9"
      },
      "source": [
        "!pip install mlens -q"
      ],
      "execution_count": null,
      "outputs": []
    },
    {
      "cell_type": "code",
      "metadata": {
        "id": "cAHraV6lTSHR"
      },
      "source": [
        "from mlens.ensemble import SuperLearner"
      ],
      "execution_count": null,
      "outputs": []
    },
    {
      "cell_type": "code",
      "metadata": {
        "id": "Whrjqfc9bHLk"
      },
      "source": [
        "def get_super_learner(X):\n",
        "  ensemble = SuperLearner(scorer=accuracy_score, folds = 10, random_state=687843)\n",
        "  models = get_models()\n",
        "  ensemble.add(model)\n",
        "  ensemble.add([LogisticRegression(), RandomForestClassifier()])\n",
        "  ensemble.add([LogisticRegression(), SVC()])\n",
        "  ensemble.add_meta(SVC())\n",
        "  return ensemble"
      ],
      "execution_count": null,
      "outputs": []
    },
    {
      "cell_type": "code",
      "metadata": {
        "id": "XrRvv2VhTalI"
      },
      "source": [
        "# create the super learner\n",
        "ensemble = get_super_learner(X_train)\n",
        "# fit the super learner\n",
        "ensemble.fit(X_train, y_train)\n",
        "# summarize base learners\n",
        "print(ensemble.data)\n",
        "# make predictions on hold out set\n",
        "yhat = ensemble.predict(X_test)\n",
        "print('Super Learner: %.3f' % (accuracy_score(y_test, yhat) * 100))"
      ],
      "execution_count": null,
      "outputs": []
    },
    {
      "cell_type": "code",
      "metadata": {
        "id": "rCD-neJsToZ8"
      },
      "source": [
        "yhat_trainen = ensemble.predict(X_train)\n",
        "yhat_testen = ensemble.predict(X_test)\n",
        "print(f\"ACCURACY SCORE ON TRAIN: {(accuracy_score(y_train, yhat_trainen))*100}\")\n",
        "print('\\n')\n",
        "print(f\"ACCURACY SCORE ON TEST: {(accuracy_score(y_test, yhat_testen))*100}\")\n",
        "print(\"\\n=================================\")"
      ],
      "execution_count": null,
      "outputs": []
    },
    {
      "cell_type": "code",
      "metadata": {
        "id": "OF2Stuy3htGT"
      },
      "source": [
        "import matplotlib.pyplot as plt\n",
        "from mlens.visualization import exp_var_plot\n",
        "from sklearn.decomposition import PCA\n",
        "exp_var_plot(df, PCA(), marker='s', where='post')"
      ],
      "execution_count": null,
      "outputs": []
    },
    {
      "cell_type": "code",
      "metadata": {
        "id": "-hpX3IOsdEeZ"
      },
      "source": [
        "from mlens.visualization import pca_comp_plot\n",
        "pca_comp_plot(X, y)\n",
        "plt.show()"
      ],
      "execution_count": null,
      "outputs": []
    },
    {
      "cell_type": "code",
      "metadata": {
        "id": "xYWLnbx6fMXj"
      },
      "source": [
        "from mlens.visualization import pca_plot\n",
        "from sklearn.decomposition import PCA\n",
        "pca_plot(df, PCA(n_components=2), y=y)"
      ],
      "execution_count": null,
      "outputs": []
    },
    {
      "cell_type": "code",
      "metadata": {
        "id": "PZfDlPgwfWOq"
      },
      "source": [
        "import matplotlib.pyplot as plt\n",
        "from mlens.visualization import exp_var_plot\n",
        "from sklearn.decomposition import PCA\n",
        "exp_var_plot(X, PCA(), marker='s', where='post')"
      ],
      "execution_count": null,
      "outputs": []
    },
    {
      "cell_type": "code",
      "metadata": {
        "id": "3gcCQe5ffZ3T"
      },
      "source": [
        "with plt.xkcd():\n",
        "  pca_comp_plot(df, y)\n",
        "plt.show()"
      ],
      "execution_count": null,
      "outputs": []
    },
    {
      "cell_type": "code",
      "metadata": {
        "id": "cV5YD9ZzfkdU"
      },
      "source": [
        "from mlens.visualization import corr_X_y\n",
        "# Z = df, columns=[i for i in feature_columns]\n",
        "corr_X_y(df, y, 2, no_ticks=False)\n",
        "plt.show()"
      ],
      "execution_count": null,
      "outputs": []
    },
    {
      "cell_type": "code",
      "metadata": {
        "id": "3JaDMdF0gMWs"
      },
      "source": [
        ""
      ],
      "execution_count": null,
      "outputs": []
    }
  ]
}