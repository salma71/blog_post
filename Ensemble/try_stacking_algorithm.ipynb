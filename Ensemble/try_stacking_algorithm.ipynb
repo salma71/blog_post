{
  "nbformat": 4,
  "nbformat_minor": 0,
  "metadata": {
    "colab": {
      "name": "try_stacking algorithm.ipynb",
      "provenance": []
    },
    "kernelspec": {
      "name": "python3",
      "display_name": "Python 3"
    }
  },
  "cells": [
    {
      "cell_type": "code",
      "metadata": {
        "colab": {
          "resources": {
            "http://localhost:8080/nbextensions/google.colab/files.js": {
              "data": "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",
              "ok": true,
              "headers": [
                [
                  "content-type",
                  "application/javascript"
                ]
              ],
              "status": 200,
              "status_text": ""
            }
          },
          "base_uri": "https://localhost:8080/",
          "height": 73
        },
        "id": "a04ZXupC-YVk",
        "outputId": "b69cd3c6-2edb-46cd-cc86-54201cd59915"
      },
      "source": [
        "!pip install -q kaggle\n",
        "from google.colab import files\n",
        "files.upload()\n",
        "!mkdir ~/.kaggle\n",
        "!cp kaggle.json ~/.kaggle/\n",
        "\n"
      ],
      "execution_count": 1,
      "outputs": [
        {
          "output_type": "display_data",
          "data": {
            "text/html": [
              "\n",
              "     <input type=\"file\" id=\"files-79158e9d-52af-4552-b1ba-f83a2dd47c8f\" name=\"files[]\" multiple disabled\n",
              "        style=\"border:none\" />\n",
              "     <output id=\"result-79158e9d-52af-4552-b1ba-f83a2dd47c8f\">\n",
              "      Upload widget is only available when the cell has been executed in the\n",
              "      current browser session. Please rerun this cell to enable.\n",
              "      </output>\n",
              "      <script src=\"/nbextensions/google.colab/files.js\"></script> "
            ],
            "text/plain": [
              "<IPython.core.display.HTML object>"
            ]
          },
          "metadata": {
            "tags": []
          }
        },
        {
          "output_type": "stream",
          "text": [
            "Saving kaggle.json to kaggle.json\n"
          ],
          "name": "stdout"
        }
      ]
    },
    {
      "cell_type": "code",
      "metadata": {
        "id": "qNMdJE8vAsSl"
      },
      "source": [
        "!chmod 600 ~/.kaggle/kaggle.json\n",
        "#unzip the folder\n",
        "!mkdir train"
      ],
      "execution_count": 2,
      "outputs": []
    },
    {
      "cell_type": "code",
      "metadata": {
        "colab": {
          "base_uri": "https://localhost:8080/"
        },
        "id": "X0NHz7cmBAe0",
        "outputId": "8739190f-d9a2-4781-ef4b-09ab8d32bf43"
      },
      "source": [
        "!kaggle datasets download -d uciml/pima-indians-diabetes-database"
      ],
      "execution_count": 3,
      "outputs": [
        {
          "output_type": "stream",
          "text": [
            "Downloading pima-indians-diabetes-database.zip to /content\n",
            "\r  0% 0.00/8.91k [00:00<?, ?B/s]\n",
            "\r100% 8.91k/8.91k [00:00<00:00, 3.36MB/s]\n"
          ],
          "name": "stdout"
        }
      ]
    },
    {
      "cell_type": "code",
      "metadata": {
        "colab": {
          "base_uri": "https://localhost:8080/"
        },
        "id": "hy7BsWPzAW7x",
        "outputId": "3a4bc4fc-559c-4c50-a817-5f959248e222"
      },
      "source": [
        "!unzip pima-indians-diabetes-database.zip -d train\n"
      ],
      "execution_count": 4,
      "outputs": [
        {
          "output_type": "stream",
          "text": [
            "Archive:  pima-indians-diabetes-database.zip\n",
            "  inflating: train/diabetes.csv      \n"
          ],
          "name": "stdout"
        }
      ]
    },
    {
      "cell_type": "code",
      "metadata": {
        "id": "9oNDlLq-BRkf"
      },
      "source": [
        "# example of a super learner model for binary classification\n",
        "from numpy import hstack\n",
        "from numpy import vstack\n",
        "from numpy import asarray\n",
        "import pandas as pd\n",
        "import matplotlib.pyplot as plt\n",
        "from sklearn.metrics import confusion_matrix, accuracy_score, classification_report\n",
        "from sklearn.model_selection import KFold\n",
        "from sklearn.model_selection import train_test_split\n",
        "from sklearn.metrics import accuracy_score\n",
        "from sklearn.neighbors import KNeighborsClassifier\n",
        "from sklearn.linear_model import LogisticRegression\n",
        "from sklearn.tree import DecisionTreeClassifier\n",
        "from sklearn.svm import SVC\n",
        "from sklearn.naive_bayes import GaussianNB\n",
        "from sklearn.ensemble import AdaBoostClassifier\n",
        "from sklearn.ensemble import BaggingClassifier\n",
        "from sklearn.ensemble import RandomForestClassifier\n",
        "from sklearn.ensemble import ExtraTreesClassifier\n"
      ],
      "execution_count": 5,
      "outputs": []
    },
    {
      "cell_type": "code",
      "metadata": {
        "id": "h94jXik0-m90"
      },
      "source": [
        "# load the data\n",
        "data = pd.read_csv('/content/train/diabetes.csv')\n",
        "df = data.copy()\n",
        "feature_columns = list(df.columns)\n",
        "feature_columns.remove('Outcome')\n",
        "from sklearn.impute import SimpleImputer\n",
        "fill_values = SimpleImputer(missing_values=0, strategy=\"mean\", copy=False)\n",
        "df[feature_columns] = fill_values.fit_transform(df[feature_columns])\n",
        "# split the data into train and test\n",
        "X = data.iloc[:, :-1].values\n",
        "y = data.iloc[:, -1].values\n",
        "X_train, X_test, y_train, y_test = train_test_split(X, y, test_size=0.3, random_state=42, stratify = y)"
      ],
      "execution_count": 6,
      "outputs": []
    },
    {
      "cell_type": "code",
      "metadata": {
        "id": "7-LgdgXP_b_r"
      },
      "source": [
        "# create a list of base-models\n",
        "def get_models():\n",
        "\tmodels = list()\n",
        "\tmodels.append(LogisticRegression(solver='liblinear'))\n",
        "\tmodels.append(DecisionTreeClassifier())\n",
        "\tmodels.append(SVC(gamma='scale', probability=True))\n",
        "\tmodels.append(GaussianNB())\n",
        "\tmodels.append(KNeighborsClassifier())\n",
        "\tmodels.append(AdaBoostClassifier())\n",
        "\tmodels.append(BaggingClassifier(n_estimators=10))\n",
        "\tmodels.append(RandomForestClassifier(n_estimators=10))\n",
        "\tmodels.append(ExtraTreesClassifier(n_estimators=10))\n",
        "\treturn models\n",
        " \n",
        "# collect out of fold predictions form k-fold cross validation\n",
        "def get_out_of_fold_predictions(X, y, models):\n",
        "\tmeta_X, meta_y = list(), list()\n",
        "\t# define split of data\n",
        "\tkfold = KFold(n_splits=10, shuffle=True)\n",
        "\t# enumerate splits\n",
        "\tfor train_ix, test_ix in kfold.split(X):\n",
        "\t\tfold_yhats = list()\n",
        "\t\t# get data\n",
        "\t\ttrain_X, test_X = X[train_ix], X[test_ix]\n",
        "\t\ttrain_y, test_y = y[train_ix], y[test_ix]\n",
        "\t\tmeta_y.extend(test_y)\n",
        "\t\t# fit and make predictions with each sub-model\n",
        "\t\tfor model in models:\n",
        "\t\t\tmodel.fit(train_X, train_y)\n",
        "\t\t\tyhat = model.predict_proba(test_X)\n",
        "\t\t\t# store columns\n",
        "\t\t\tfold_yhats.append(yhat)\n",
        "\t\t# store fold yhats as columns\n",
        "\t\tmeta_X.append(hstack(fold_yhats))\n",
        "\treturn vstack(meta_X), asarray(meta_y)\n",
        " \n",
        "# fit all base models on the training dataset\n",
        "def fit_base_models(X, y, models):\n",
        "\tfor model in models:\n",
        "\t\tmodel.fit(X, y)\n",
        " \n",
        "# fit a meta model\n",
        "def fit_meta_model(X, y):\n",
        "\tmodel = LogisticRegression(solver='liblinear')\n",
        "\tmodel.fit(X, y)\n",
        "\treturn model\n",
        " \n",
        "# evaluate a list of models on a dataset\n",
        "scores = {}\n",
        "def evaluate_models_enhance(X_train, X_test, y_train, y_test, models):\n",
        "  for model in models:\n",
        "    y_test_pred = model.predict(X_test)\n",
        "    y_train_pred = model.predict(X_train)\n",
        "    scores[model.__class__.__name__] = {\n",
        "        'Train': (accuracy_score(y_train, y_train_pred))*100,\n",
        "        'Test': (accuracy_score(y_test, y_test_pred))*100\n",
        "    }\n",
        "    print(scores)\n",
        "\n",
        "\n",
        "# make predictions with stacked model\n",
        "def super_learner_predictions(X, models, meta_model):\n",
        "\tmeta_X = list()\n",
        "\tfor model in models:\n",
        "\t\tyhat = model.predict_proba(X)\n",
        "\t\tmeta_X.append(yhat)\n",
        "\tmeta_X = hstack(meta_X)\n",
        "\t# predict\n",
        "\treturn meta_model.predict(meta_X)"
      ],
      "execution_count": 7,
      "outputs": []
    },
    {
      "cell_type": "code",
      "metadata": {
        "colab": {
          "base_uri": "https://localhost:8080/"
        },
        "id": "FjWI0-yjBlTH",
        "outputId": "c66692cd-6f67-46ec-9ab1-866c81c7dd82"
      },
      "source": [
        "print('Train', X.shape, y.shape, 'Test', X_test.shape, y_test.shape)\n",
        "# get models\n",
        "models = get_models()\n",
        "# get out of fold predictions\n",
        "meta_X, meta_y = get_out_of_fold_predictions(X, y, models)\n",
        "print('Meta ', meta_X.shape, meta_y.shape)\n",
        "# fit base models\n",
        "fit_base_models(X_train, y_train, models)\n",
        "# fit the meta model\n",
        "meta_model = fit_meta_model(meta_X, meta_y)\n",
        "# evaluate base models\n",
        "evaluate_models_enhance(X_train, X_test, y_train, y_test, models)\n",
        "# evaluate stacked model\n",
        "# evaluate_models_stack(X_train, X_test, y_train, y_test, models, meta_model)\n",
        "yhat_train = super_learner_predictions(X_train, models, meta_model)\n",
        "yhat_test = super_learner_predictions(X_test, models, meta_model)\n",
        "print(\"RESULTS FOR SUPER LEARNER: \\n-------------------------------\")\n",
        "clf_report = pd.DataFrame(classification_report(y_train, yhat_train, output_dict=True))\n",
        "print(f\"ACCURACY SCORE ON TRAIN: {(accuracy_score(y_train, yhat_train))*100}\")\n",
        "print('\\n')\n",
        "clf_report = pd.DataFrame(classification_report(y_test, yhat_test, output_dict=True))\n",
        "print(f\"ACCURACY SCORE ON TEST: {(accuracy_score(y_test, yhat_test))*100}\")\n",
        "print(\"\\n=================================\")\n",
        " \n",
        "# print('Super Learner: %.3f' % (accuracy_score(y_test, yhat) * 100))"
      ],
      "execution_count": 8,
      "outputs": [
        {
          "output_type": "stream",
          "text": [
            "Train (768, 8) (768,) Test (231, 8) (231,)\n",
            "Meta  (768, 18) (768,)\n",
            "{'LogisticRegression': {'Train': 78.58472998137802, 'Test': 73.59307359307358}}\n",
            "{'LogisticRegression': {'Train': 78.58472998137802, 'Test': 73.59307359307358}, 'DecisionTreeClassifier': {'Train': 100.0, 'Test': 76.19047619047619}}\n",
            "{'LogisticRegression': {'Train': 78.58472998137802, 'Test': 73.59307359307358}, 'DecisionTreeClassifier': {'Train': 100.0, 'Test': 76.19047619047619}, 'SVC': {'Train': 78.02607076350093, 'Test': 74.45887445887446}}\n",
            "{'LogisticRegression': {'Train': 78.58472998137802, 'Test': 73.59307359307358}, 'DecisionTreeClassifier': {'Train': 100.0, 'Test': 76.19047619047619}, 'SVC': {'Train': 78.02607076350093, 'Test': 74.45887445887446}, 'GaussianNB': {'Train': 77.6536312849162, 'Test': 74.45887445887446}}\n",
            "{'LogisticRegression': {'Train': 78.58472998137802, 'Test': 73.59307359307358}, 'DecisionTreeClassifier': {'Train': 100.0, 'Test': 76.19047619047619}, 'SVC': {'Train': 78.02607076350093, 'Test': 74.45887445887446}, 'GaussianNB': {'Train': 77.6536312849162, 'Test': 74.45887445887446}, 'KNeighborsClassifier': {'Train': 80.63314711359403, 'Test': 71.86147186147186}}\n",
            "{'LogisticRegression': {'Train': 78.58472998137802, 'Test': 73.59307359307358}, 'DecisionTreeClassifier': {'Train': 100.0, 'Test': 76.19047619047619}, 'SVC': {'Train': 78.02607076350093, 'Test': 74.45887445887446}, 'GaussianNB': {'Train': 77.6536312849162, 'Test': 74.45887445887446}, 'KNeighborsClassifier': {'Train': 80.63314711359403, 'Test': 71.86147186147186}, 'AdaBoostClassifier': {'Train': 84.17132216014897, 'Test': 74.02597402597402}}\n",
            "{'LogisticRegression': {'Train': 78.58472998137802, 'Test': 73.59307359307358}, 'DecisionTreeClassifier': {'Train': 100.0, 'Test': 76.19047619047619}, 'SVC': {'Train': 78.02607076350093, 'Test': 74.45887445887446}, 'GaussianNB': {'Train': 77.6536312849162, 'Test': 74.45887445887446}, 'KNeighborsClassifier': {'Train': 80.63314711359403, 'Test': 71.86147186147186}, 'AdaBoostClassifier': {'Train': 84.17132216014897, 'Test': 74.02597402597402}, 'BaggingClassifier': {'Train': 98.32402234636871, 'Test': 75.32467532467533}}\n",
            "{'LogisticRegression': {'Train': 78.58472998137802, 'Test': 73.59307359307358}, 'DecisionTreeClassifier': {'Train': 100.0, 'Test': 76.19047619047619}, 'SVC': {'Train': 78.02607076350093, 'Test': 74.45887445887446}, 'GaussianNB': {'Train': 77.6536312849162, 'Test': 74.45887445887446}, 'KNeighborsClassifier': {'Train': 80.63314711359403, 'Test': 71.86147186147186}, 'AdaBoostClassifier': {'Train': 84.17132216014897, 'Test': 74.02597402597402}, 'BaggingClassifier': {'Train': 98.32402234636871, 'Test': 75.32467532467533}, 'RandomForestClassifier': {'Train': 97.57914338919925, 'Test': 74.02597402597402}}\n",
            "{'LogisticRegression': {'Train': 78.58472998137802, 'Test': 73.59307359307358}, 'DecisionTreeClassifier': {'Train': 100.0, 'Test': 76.19047619047619}, 'SVC': {'Train': 78.02607076350093, 'Test': 74.45887445887446}, 'GaussianNB': {'Train': 77.6536312849162, 'Test': 74.45887445887446}, 'KNeighborsClassifier': {'Train': 80.63314711359403, 'Test': 71.86147186147186}, 'AdaBoostClassifier': {'Train': 84.17132216014897, 'Test': 74.02597402597402}, 'BaggingClassifier': {'Train': 98.32402234636871, 'Test': 75.32467532467533}, 'RandomForestClassifier': {'Train': 97.57914338919925, 'Test': 74.02597402597402}, 'ExtraTreesClassifier': {'Train': 100.0, 'Test': 74.45887445887446}}\n",
            "RESULTS FOR SUPER LEARNER: \n",
            "-------------------------------\n",
            "ACCURACY SCORE ON TRAIN: 96.46182495344506\n",
            "\n",
            "\n",
            "ACCURACY SCORE ON TEST: 75.32467532467533\n",
            "\n",
            "=================================\n"
          ],
          "name": "stdout"
        }
      ]
    },
    {
      "cell_type": "code",
      "metadata": {
        "colab": {
          "base_uri": "https://localhost:8080/"
        },
        "id": "j9dqKC4gaHID",
        "outputId": "9625027d-9859-40f8-ba34-2339429d7213"
      },
      "source": [
        "scores['Manual_stacked'] = {\n",
        "        'Train': (accuracy_score(y_train, yhat_train))*100,\n",
        "        'Test': (accuracy_score(y_test, yhat_test))*100\n",
        "    }\n",
        "scores"
      ],
      "execution_count": 9,
      "outputs": [
        {
          "output_type": "execute_result",
          "data": {
            "text/plain": [
              "{'AdaBoostClassifier': {'Test': 74.02597402597402, 'Train': 84.17132216014897},\n",
              " 'BaggingClassifier': {'Test': 75.32467532467533, 'Train': 98.32402234636871},\n",
              " 'DecisionTreeClassifier': {'Test': 76.19047619047619, 'Train': 100.0},\n",
              " 'ExtraTreesClassifier': {'Test': 74.45887445887446, 'Train': 100.0},\n",
              " 'GaussianNB': {'Test': 74.45887445887446, 'Train': 77.6536312849162},\n",
              " 'KNeighborsClassifier': {'Test': 71.86147186147186,\n",
              "  'Train': 80.63314711359403},\n",
              " 'LogisticRegression': {'Test': 73.59307359307358, 'Train': 78.58472998137802},\n",
              " 'Manual_stacked': {'Test': 75.32467532467533, 'Train': 96.46182495344506},\n",
              " 'RandomForestClassifier': {'Test': 74.02597402597402,\n",
              "  'Train': 97.57914338919925},\n",
              " 'SVC': {'Test': 74.45887445887446, 'Train': 78.02607076350093}}"
            ]
          },
          "metadata": {
            "tags": []
          },
          "execution_count": 9
        }
      ]
    },
    {
      "cell_type": "code",
      "metadata": {
        "colab": {
          "base_uri": "https://localhost:8080/",
          "height": 514
        },
        "id": "U2UwEVLO6aaj",
        "outputId": "b2c16eb1-2717-414e-9c44-9ec7f67b3ebf"
      },
      "source": [
        "import matplotlib.pyplot as plt\n",
        "\n",
        "scores_df = pd.DataFrame(scores)\n",
        "long_df = scores_df.reset_index()\n",
        "long_df\n",
        "scores_df.plot(kind = 'bar', figsize=(12, 8), colormap='Spectral')"
      ],
      "execution_count": 10,
      "outputs": [
        {
          "output_type": "execute_result",
          "data": {
            "text/plain": [
              "<matplotlib.axes._subplots.AxesSubplot at 0x7f48a6650ba8>"
            ]
          },
          "metadata": {
            "tags": []
          },
          "execution_count": 10
        },
        {
          "output_type": "display_data",
          "data": {
            "image/png": "[encoded data removed]",
            "text/plain": [
              "<Figure size 864x576 with 1 Axes>"
            ]
          },
          "metadata": {
            "tags": [],
            "needs_background": "light"
          }
        }
      ]
    },
    {
      "cell_type": "code",
      "metadata": {
        "id": "JZxCvprJ5dU8",
        "outputId": "326d6ea5-f7e8-457c-a543-5fb731c2b6ef",
        "colab": {
          "base_uri": "https://localhost:8080/"
        }
      },
      "source": [
        "!pip install mlens"
      ],
      "execution_count": 12,
      "outputs": [
        {
          "output_type": "stream",
          "text": [
            "Collecting mlens\n",
            "\u001b[?25l  Downloading https://files.pythonhosted.org/packages/0b/f7/c04bda423ac93ddb54bc4c3a21c79c9a24bc83844efc30dc4c11c289e894/mlens-0.2.3-py2.py3-none-any.whl (227kB)\n",
            "\r\u001b[K     |█▍                              | 10kB 15.3MB/s eta 0:00:01\r\u001b[K     |██▉                             | 20kB 19.9MB/s eta 0:00:01\r\u001b[K     |████▎                           | 30kB 13.5MB/s eta 0:00:01\r\u001b[K     |█████▊                          | 40kB 10.7MB/s eta 0:00:01\r\u001b[K     |███████▏                        | 51kB 8.0MB/s eta 0:00:01\r\u001b[K     |████████▋                       | 61kB 9.2MB/s eta 0:00:01\r\u001b[K     |██████████                      | 71kB 8.5MB/s eta 0:00:01\r\u001b[K     |███████████▌                    | 81kB 8.6MB/s eta 0:00:01\r\u001b[K     |█████████████                   | 92kB 9.4MB/s eta 0:00:01\r\u001b[K     |██████████████▍                 | 102kB 9.1MB/s eta 0:00:01\r\u001b[K     |███████████████▉                | 112kB 9.1MB/s eta 0:00:01\r\u001b[K     |█████████████████▎              | 122kB 9.1MB/s eta 0:00:01\r\u001b[K     |██████████████████▊             | 133kB 9.1MB/s eta 0:00:01\r\u001b[K     |████████████████████▏           | 143kB 9.1MB/s eta 0:00:01\r\u001b[K     |█████████████████████▋          | 153kB 9.1MB/s eta 0:00:01\r\u001b[K     |███████████████████████         | 163kB 9.1MB/s eta 0:00:01\r\u001b[K     |████████████████████████▌       | 174kB 9.1MB/s eta 0:00:01\r\u001b[K     |██████████████████████████      | 184kB 9.1MB/s eta 0:00:01\r\u001b[K     |███████████████████████████▍    | 194kB 9.1MB/s eta 0:00:01\r\u001b[K     |████████████████████████████▉   | 204kB 9.1MB/s eta 0:00:01\r\u001b[K     |██████████████████████████████▎ | 215kB 9.1MB/s eta 0:00:01\r\u001b[K     |███████████████████████████████▋| 225kB 9.1MB/s eta 0:00:01\r\u001b[K     |████████████████████████████████| 235kB 9.1MB/s \n",
            "\u001b[?25hRequirement already satisfied: numpy>=1.11 in /usr/local/lib/python3.6/dist-packages (from mlens) (1.19.5)\n",
            "Requirement already satisfied: scipy>=0.17 in /usr/local/lib/python3.6/dist-packages (from mlens) (1.4.1)\n",
            "Installing collected packages: mlens\n",
            "Successfully installed mlens-0.2.3\n"
          ],
          "name": "stdout"
        }
      ]
    },
    {
      "cell_type": "code",
      "metadata": {
        "id": "AXZkiMJ_cC6m",
        "outputId": "49fd3f3a-cb50-4a63-b49d-032f558e585a",
        "colab": {
          "base_uri": "https://localhost:8080/"
        }
      },
      "source": [
        "from mlens.ensemble import SuperLearner\n",
        "def get_super_learner(X):\n",
        "  ensemble = SuperLearner(scorer=accuracy_score, folds = 10)\n",
        "  model = get_models()\n",
        "  ensemble.add(model)\n",
        "  ensemble.add([LogisticRegression(), RandomForestClassifier()])\n",
        "  ensemble.add([LogisticRegression(), SVC()])\n",
        "  ensemble.add_meta(SVC())\n",
        "  return ensemble\n",
        "\n",
        "# create the super learner\n",
        "ensemble = get_super_learner(X_train)\n",
        "# fit the super learner\n",
        "ensemble.fit(X_train, y_train)\n",
        "# summarize base learners\n",
        "print(ensemble.data)\n",
        "# make predictions on hold out set\n",
        "yhat = ensemble.predict(X_test)\n",
        "print('Super Learner: %.3f' % (accuracy_score(y_test, yhat) * 100))"
      ],
      "execution_count": 34,
      "outputs": [
        {
          "output_type": "stream",
          "text": [
            "                                   score-m  score-s  ft-m  ft-s  pt-m  pt-s\n",
            "layer-1  adaboostclassifier           0.74     0.03  0.23  0.02  0.02  0.00\n",
            "layer-1  baggingclassifier            0.72     0.05  0.06  0.00  0.00  0.00\n",
            "layer-1  decisiontreeclassifier       0.71     0.05  0.01  0.00  0.00  0.00\n",
            "layer-1  extratreesclassifier         0.73     0.06  0.04  0.01  0.00  0.00\n",
            "layer-1  gaussiannb                   0.76     0.04  0.00  0.00  0.00  0.00\n",
            "layer-1  kneighborsclassifier         0.69     0.05  0.00  0.00  0.01  0.00\n",
            "layer-1  logisticregression           0.77     0.05  0.01  0.00  0.00  0.00\n",
            "layer-1  randomforestclassifier       0.73     0.04  0.04  0.01  0.00  0.00\n",
            "layer-1  svc                          0.75     0.06  0.05  0.00  0.00  0.00\n",
            "layer-2  logisticregression           0.77     0.04  0.01  0.00  0.00  0.00\n",
            "layer-2  randomforestclassifier       0.74     0.04  0.37  0.07  0.02  0.00\n",
            "layer-3  logisticregression           0.77     0.04  0.01  0.00  0.00  0.00\n",
            "layer-3  svc                          0.77     0.04  0.01  0.00  0.00  0.00\n",
            "\n",
            "Super Learner: 76.623\n"
          ],
          "name": "stdout"
        }
      ]
    },
    {
      "cell_type": "code",
      "metadata": {
        "id": "SFUMLC_6cjQx",
        "outputId": "7f80187a-41fb-44d3-bbe9-582da0912ec5",
        "colab": {
          "base_uri": "https://localhost:8080/"
        }
      },
      "source": [
        "yhat_trainen = ensemble.predict(X_train)\n",
        "yhat_testen = ensemble.predict(X_test)\n",
        "print(f\"ACCURACY SCORE ON TRAIN: {(accuracy_score(y_train, yhat_trainen))*100}\")\n",
        "print('\\n')\n",
        "print(f\"ACCURACY SCORE ON TEST: {(accuracy_score(y_test, yhat_testen))*100}\")\n",
        "print(\"\\n=================================\")"
      ],
      "execution_count": 35,
      "outputs": [
        {
          "output_type": "stream",
          "text": [
            "ACCURACY SCORE ON TRAIN: 83.24022346368714\n",
            "\n",
            "\n",
            "ACCURACY SCORE ON TEST: 76.62337662337663\n",
            "\n",
            "=================================\n"
          ],
          "name": "stdout"
        }
      ]
    },
    {
      "cell_type": "code",
      "metadata": {
        "id": "qv3xvUbfct8Y",
        "outputId": "b7dac244-7089-42a7-cc33-7cde31be1228",
        "colab": {
          "base_uri": "https://localhost:8080/"
        }
      },
      "source": [
        "scores['ML_stacked'] = {\n",
        "        'Train': (accuracy_score(y_train, yhat_trainen))*100,\n",
        "        'Test': (accuracy_score(y_test, yhat_testen))*100\n",
        "    }\n",
        "scores"
      ],
      "execution_count": 37,
      "outputs": [
        {
          "output_type": "execute_result",
          "data": {
            "text/plain": [
              "{'AdaBoostClassifier': {'Test': 74.02597402597402, 'Train': 84.17132216014897},\n",
              " 'BaggingClassifier': {'Test': 75.32467532467533, 'Train': 98.32402234636871},\n",
              " 'DecisionTreeClassifier': {'Test': 76.19047619047619, 'Train': 100.0},\n",
              " 'ExtraTreesClassifier': {'Test': 74.45887445887446, 'Train': 100.0},\n",
              " 'GaussianNB': {'Test': 74.45887445887446, 'Train': 77.6536312849162},\n",
              " 'KNeighborsClassifier': {'Test': 71.86147186147186,\n",
              "  'Train': 80.63314711359403},\n",
              " 'LogisticRegression': {'Test': 73.59307359307358, 'Train': 78.58472998137802},\n",
              " 'ML_stacked': {'Test': 76.62337662337663, 'Train': 83.24022346368714},\n",
              " 'Manual_stacked': {'Test': 75.32467532467533, 'Train': 96.46182495344506},\n",
              " 'RandomForestClassifier': {'Test': 74.02597402597402,\n",
              "  'Train': 97.57914338919925},\n",
              " 'SVC': {'Test': 74.45887445887446, 'Train': 78.02607076350093}}"
            ]
          },
          "metadata": {
            "tags": []
          },
          "execution_count": 37
        }
      ]
    },
    {
      "cell_type": "code",
      "metadata": {
        "id": "D-_NpQJ57bOG",
        "outputId": "61a3f1dc-4fd2-4ecd-dc3c-e8a23383ef57",
        "colab": {
          "base_uri": "https://localhost:8080/",
          "height": 514
        }
      },
      "source": [
        "scores_df = pd.DataFrame(scores)\n",
        "long_df = scores_df.reset_index()\n",
        "long_df\n",
        "scores_df.plot(kind = 'bar', figsize=(12, 8), colormap='Spectral')"
      ],
      "execution_count": 38,
      "outputs": [
        {
          "output_type": "execute_result",
          "data": {
            "text/plain": [
              "<matplotlib.axes._subplots.AxesSubplot at 0x7f48a44b5dd8>"
            ]
          },
          "metadata": {
            "tags": []
          },
          "execution_count": 38
        },
        {
          "output_type": "display_data",
          "data": {
            "image/png": "[encoded data removed]",
            "text/plain": [
              "<Figure size 864x576 with 1 Axes>"
            ]
          },
          "metadata": {
            "tags": [],
            "needs_background": "light"
          }
        }
      ]
    },
    {
      "cell_type": "markdown",
      "metadata": {
        "id": "IhXdEZHicA_S"
      },
      "source": [
        "\n",
        "\n",
        "---\n",
        "\n",
        "\n",
        "\n",
        "---\n",
        "\n"
      ]
    },
    {
      "cell_type": "code",
      "metadata": {
        "id": "SJKWBIrRb_8v"
      },
      "source": [
        ""
      ],
      "execution_count": null,
      "outputs": []
    },
    {
      "cell_type": "code",
      "metadata": {
        "id": "kITu6RJc338w"
      },
      "source": [
        "!pip install gradio -q"
      ],
      "execution_count": null,
      "outputs": []
    },
    {
      "cell_type": "code",
      "metadata": {
        "id": "Q_YM-7xP3790"
      },
      "source": [
        "import gradio as gr"
      ],
      "execution_count": null,
      "outputs": []
    },
    {
      "cell_type": "code",
      "metadata": {
        "id": "QAygZysfDUMu"
      },
      "source": [
        "# scores = {}\n",
        "\n",
        "\n",
        "# def convert_df(v):\n",
        "#   scr = pd.DataFrame(v)\n",
        "#   return scr\n",
        "                \n",
        "# # make predictions with stacked model\n",
        "# def ploting(sc):\n",
        "#   df = convert_df(sc)\n",
        "#   df.plot(kind='bar')\n",
        "\n",
        "# def evaluate(df, models):\n",
        "#   models = get_models()\n",
        "#   X = df.iloc[:, :-1].values\n",
        "#   y = df.iloc[:, -1].values\n",
        "#   X_train, X_test, y_train, y_test = train_test_split(X, y, test_size=0.3, random_state=42, stratify = y)\n",
        "#   # get out of fold predictions\n",
        "#   meta_X, meta_y = get_out_of_fold_predictions(X, y, models)\n",
        "#   # fit base models\n",
        "#   fit_base_models(X_train, y_train, models)\n",
        "#   # fit the meta model\n",
        "#   meta_model = fit_meta_model(meta_X, meta_y)\n",
        "#   # evaluate base models\n",
        "#   evaluate_models_enhance(X_train, X_test, y_train, y_test, models)\n",
        "#   # evaluate stacked model\n",
        "#   for model in models:\n",
        "#     y_test_pred = model.predict(X_test)\n",
        "#     y_train_pred = model.predict(X_train)\n",
        "#     scores[model.__class__.__name__] = {\n",
        "#         'Train': (accuracy_score(y_train, y_train_pred))*100,\n",
        "#         'Test': (accuracy_score(y_test, y_test_pred))*100,\n",
        "#     }\n",
        "#   print(scores)\n",
        "\n",
        "#   tt = evaluate(df= df, models= models)\n",
        "#   tt"
      ],
      "execution_count": null,
      "outputs": []
    },
    {
      "cell_type": "code",
      "metadata": {
        "id": "w7sP_WPm8q-r"
      },
      "source": [
        "# algos_list = [m.__class__.__name__ for m in models]\n",
        "# algos_list"
      ],
      "execution_count": null,
      "outputs": []
    },
    {
      "cell_type": "code",
      "metadata": {
        "id": "OdxYgZSI98tb"
      },
      "source": [
        "# exa = [\n",
        "#        ['scores']\n",
        "# ]\n",
        "# iface = gr.Interface(evaluate,\n",
        "#                      [\n",
        "#                       gr.inputs.Dataframe(type='pandas'),\n",
        "#                       gr.inputs.Dropdown(algos_list, label='algo'),\n",
        "#                       gr.inputs.Dropdown(algos_list, label='vs. algo'),\n",
        "#                       gr.inputs.Radio(['train', 'test', 'both'], label='Performance'),\n",
        "#                      ],\n",
        "#                      gr.outputs.Image(plot=True, label='compare'), examples = exa).launch()\n",
        "# # model_name = gr.inputs.CheckboxGroup(choices = lis, label=\"Algo name\", type='value')\n",
        "# # gr.Interface(super_learner_predictions, [X_train, X_test, y_train, y_test, models], \"label\").launch()"
      ],
      "execution_count": null,
      "outputs": []
    },
    {
      "cell_type": "markdown",
      "metadata": {
        "id": "sK0fjSggWwEm"
      },
      "source": [
        "We will use our list of classifier models and a logistic regression model as the meta-model.\n",
        "\n",
        "we can configure the SuperLearner with 10-fold cross-validation, our evaluation function, and the use of the entire training dataset when preparing out-of-fold predictions to use as input for the meta-model.\n",
        "\n",
        "Then fit the data\n",
        "\n",
        "Finally, we can get a nice report of the performance of each of the base-models on the training dataset using k-fold cross-validation by accessing the “data” attribute on the model."
      ]
    },
    {
      "cell_type": "code",
      "metadata": {
        "id": "_H5F2XQ1WvWs"
      },
      "source": [
        ""
      ],
      "execution_count": null,
      "outputs": []
    },
    {
      "cell_type": "code",
      "metadata": {
        "id": "ToxdmmtaTOE9"
      },
      "source": [
        "!pip install mlens -q"
      ],
      "execution_count": null,
      "outputs": []
    },
    {
      "cell_type": "code",
      "metadata": {
        "id": "cAHraV6lTSHR"
      },
      "source": [
        "from mlens.ensemble import SuperLearner"
      ],
      "execution_count": null,
      "outputs": []
    },
    {
      "cell_type": "code",
      "metadata": {
        "id": "Whrjqfc9bHLk"
      },
      "source": [
        "def get_super_learner(X):\n",
        "  ensemble = SuperLearner(scorer=accuracy_score, folds = 10, random_state=687843)\n",
        "  models = get_models()\n",
        "  ensemble.add(model)\n",
        "  ensemble.add([LogisticRegression(), RandomForestClassifier()])\n",
        "  ensemble.add([LogisticRegression(), SVC()])\n",
        "  ensemble.add_meta(SVC())\n",
        "  return ensemble"
      ],
      "execution_count": null,
      "outputs": []
    },
    {
      "cell_type": "code",
      "metadata": {
        "id": "XrRvv2VhTalI"
      },
      "source": [
        "# create the super learner\n",
        "ensemble = get_super_learner(X_train)\n",
        "# fit the super learner\n",
        "ensemble.fit(X_train, y_train)\n",
        "# summarize base learners\n",
        "print(ensemble.data)\n",
        "# make predictions on hold out set\n",
        "yhat = ensemble.predict(X_test)\n",
        "print('Super Learner: %.3f' % (accuracy_score(y_test, yhat) * 100))"
      ],
      "execution_count": null,
      "outputs": []
    },
    {
      "cell_type": "code",
      "metadata": {
        "id": "rCD-neJsToZ8"
      },
      "source": [
        "yhat_trainen = ensemble.predict(X_train)\n",
        "yhat_testen = ensemble.predict(X_test)\n",
        "print(f\"ACCURACY SCORE ON TRAIN: {(accuracy_score(y_train, yhat_trainen))*100}\")\n",
        "print('\\n')\n",
        "print(f\"ACCURACY SCORE ON TEST: {(accuracy_score(y_test, yhat_testen))*100}\")\n",
        "print(\"\\n=================================\")"
      ],
      "execution_count": null,
      "outputs": []
    },
    {
      "cell_type": "code",
      "metadata": {
        "id": "OF2Stuy3htGT"
      },
      "source": [
        "import matplotlib.pyplot as plt\n",
        "from mlens.visualization import exp_var_plot\n",
        "from sklearn.decomposition import PCA\n",
        "exp_var_plot(df, PCA(), marker='s', where='post')"
      ],
      "execution_count": null,
      "outputs": []
    },
    {
      "cell_type": "code",
      "metadata": {
        "id": "-hpX3IOsdEeZ"
      },
      "source": [
        "from mlens.visualization import pca_comp_plot\n",
        "pca_comp_plot(X, y)\n",
        "plt.show()"
      ],
      "execution_count": null,
      "outputs": []
    },
    {
      "cell_type": "code",
      "metadata": {
        "id": "xYWLnbx6fMXj"
      },
      "source": [
        "from mlens.visualization import pca_plot\n",
        "from sklearn.decomposition import PCA\n",
        "pca_plot(df, PCA(n_components=2), y=y)"
      ],
      "execution_count": null,
      "outputs": []
    },
    {
      "cell_type": "code",
      "metadata": {
        "id": "PZfDlPgwfWOq"
      },
      "source": [
        "import matplotlib.pyplot as plt\n",
        "from mlens.visualization import exp_var_plot\n",
        "from sklearn.decomposition import PCA\n",
        "exp_var_plot(X, PCA(), marker='s', where='post')"
      ],
      "execution_count": null,
      "outputs": []
    },
    {
      "cell_type": "code",
      "metadata": {
        "id": "3gcCQe5ffZ3T"
      },
      "source": [
        "with plt.xkcd():\n",
        "  pca_comp_plot(df, y)\n",
        "plt.show()"
      ],
      "execution_count": null,
      "outputs": []
    },
    {
      "cell_type": "code",
      "metadata": {
        "id": "cV5YD9ZzfkdU"
      },
      "source": [
        "from mlens.visualization import corr_X_y\n",
        "# Z = df, columns=[i for i in feature_columns]\n",
        "corr_X_y(df, y, 2, no_ticks=False)\n",
        "plt.show()"
      ],
      "execution_count": null,
      "outputs": []
    },
    {
      "cell_type": "code",
      "metadata": {
        "id": "3JaDMdF0gMWs"
      },
      "source": [
        ""
      ],
      "execution_count": null,
      "outputs": []
    }
  ]
}